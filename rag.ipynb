{
 "cells": [
  {
   "metadata": {},
   "cell_type": "markdown",
   "source": [
    "# RAG技术简介及实现\n",
    "\n",
    "## 1 纯文本RAG知识库的构建\n",
    "\n",
    "在这里，我们描述了从普通文本文件构建检索增强生成 (RAG) 知识库的过程。RAG结合了信息检索 (IR) 和生成模型，以根据相关文档回答问题。\n",
    "\n",
    "### 1.1 建立RAG知识库\n",
    "\n",
    "Pinecone、Weaviate：一些云服务也提供向量数据库服务，适合大规模数据。数据准备：首先，我们需要准备好大量的文本数据。这些数据可以是文章、书籍、论文、FAQ 或其他形式的文档。纯文本格式是最常见的，确保文本是结构化的（例如有标题、段落等），便于后续处理。\n",
    "数据切片：为了提高检索效率，我们将文本数据切割成较小的片段（chunk），通常每个片段包含固定数量的字符（如 500-1000 字符）。这有助于在检索时提供高效且相关的上下文。\n",
    "将文本转换为向量：使用嵌入模型将文本转换为向量表示。通常使用的嵌入模型包括 OpenAI 的 `text-embedding-ada-002`、BERT 或其他适合的预训练模型。\n",
    "构建向量数据库：使用像 FAISS、Pinecone 或 Weaviate 等向量数据库来存储和查询文本的嵌入。\n",
    "构建检索增强生成（RAG）系统：将文本数据存储在向量数据库中后，可以通过 RAG 系统结合检索与生成模型来回答问题。\n",
    "\n",
    "### 1.2 数据准备与文本预处理\n",
    "\n",
    "首先，我们需要一个纯文本数据集，可以是一个文件或多个文件。文本应该是结构化或半结构化的，例如段落或部分，以便于后续处理。\n",
    "此处使用的文本为：\n",
    "Python 是一种广泛使用的编程语言，具有清晰的语法和丰富的生态系统。\n",
    "它被用于数据科学、Web 开发、自动化等众多领域。\n",
    "LangChain 是一个用于构建基于大语言模型应用的框架，支持 RAG。\n",
    "```python\n",
    "from langchain.text_splitter import CharacterTextSplitter\n",
    "from langchain.docstore.document import Document\n",
    "# 1. 加载文本\n",
    "with open(\"mydata.txt\", \"r\", encoding=\"utf-8\") as f:\n",
    "    text = f.read()\n",
    "\n",
    "# 2. 切分文本为段落（chunk）\n",
    "\n",
    "docs = [Document(page_content=chunk) for chunk in CharacterTextSplitter(\n",
    "    chunk_size=200, chunk_overlap=20).split_text(text)]\n",
    "\n",
    "\n",
    "\n"
   ],
   "id": "f7f66f7a66b35e4e"
  },
  {
   "metadata": {},
   "cell_type": "markdown",
   "source": [
    "### 1.3 将文本转换为嵌入向量（embedding）\n",
    "\n",
    "为了使机器理解文本内容，我们需要将文本转换为嵌入。这些嵌入是文本的数值表示，捕捉语义信息。我们可以使用嵌入模型，例如OpenAI的 `text-embedding-ada-002`、基于 BERT 的模型或句子变换器。\n",
    "这是一个使用 SentenceTransformers 库将文本转换为嵌入的示例：\n",
    "\n",
    "```python\n",
    "# 3. 嵌入向量\n",
    "from langchain_openai import OpenAIEmbeddings, ChatOpenAI\n",
    "embeddings = OpenAIEmbeddings()"
   ],
   "id": "c4a0b5684e900bed"
  },
  {
   "metadata": {},
   "cell_type": "markdown",
   "source": [
    "### 1.4 构建向量数据库\n",
    "\n",
    "一旦你得到了文本的嵌入向量，你需要将它们存储在一个向量数据库中，以便高效检索。FAISS 是一个高效的向量索引库，可以用来处理大规模的向量数据。\n",
    "\n",
    "```python\n",
    "from langchain_community.vectorstores import FAISS\n",
    "db = FAISS.from_documents(docs, embeddings)\n"
   ],
   "id": "8827df432a9d553a"
  },
  {
   "metadata": {},
   "cell_type": "markdown",
   "source": [
    "### 1.5 构建检索增强生成（RAG）系统\n",
    "\n",
    "检索增强生成（RAG）系统结合了信息检索（retrieval）和生成（generation）。RAG 系统首先从向量数据库中检索与查询最相关的文档，然后将这些文档与查询一起输入到生成模型（例如 GPT-4）中，以生成更为准确的回答。\n",
    "\n",
    "以下是如何构建一个基于 RAG 的问答系统的代码示例：\n",
    "\n",
    "```python\n",
    "from langchain.chat_models import ChatOpenAI\n",
    "from langchain.chains import RetrievalQA\n",
    "from langchain.vectorstores import FAISS\n",
    "\n",
    "# 4. 创建问答链（RAG）\n",
    "qa = RetrievalQA.from_chain_type(\n",
    "    llm=ChatOpenAI(model_name=\"gpt-4o\"),\n",
    "    retriever=db.as_retriever()\n",
    ")\n",
    "\n",
    "# 5. 测试问题\n",
    "query = \"什么是 langchain？\"\n",
    "result = qa.run(query)\n",
    "print(\"答案：\", result)\n"
   ],
   "id": "e843444f2ed5b00e"
  }
 ],
 "metadata": {
  "kernelspec": {
   "display_name": "Python 3",
   "language": "python",
   "name": "python3"
  },
  "language_info": {
   "codemirror_mode": {
    "name": "ipython",
    "version": 2
   },
   "file_extension": ".py",
   "mimetype": "text/x-python",
   "name": "python",
   "nbconvert_exporter": "python",
   "pygments_lexer": "ipython2",
   "version": "2.7.6"
  }
 },
 "nbformat": 4,
 "nbformat_minor": 5
}
